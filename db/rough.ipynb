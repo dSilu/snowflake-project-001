{
 "cells": [
  {
   "cell_type": "code",
   "execution_count": 2,
   "metadata": {},
   "outputs": [],
   "source": [
    "from faker import Faker \n",
    "import random\n",
    "from string import ascii_lowercase, ascii_uppercase\n",
    "from faker.providers import credit_card\n",
    "import uuid\n",
    "import pymongo\n",
    "\n",
    "fake = Faker('en_IN')"
   ]
  },
  {
   "cell_type": "code",
   "execution_count": null,
   "metadata": {},
   "outputs": [],
   "source": [
    "mongodb+srv://mongosf:<password>@cluster0.0nlbhko.mongodb.net/?retryWrites=true&w=majority"
   ]
  },
  {
   "cell_type": "code",
   "execution_count": 3,
   "metadata": {},
   "outputs": [
    {
     "name": "stdout",
     "output_type": "stream",
     "text": [
      "Unique User ID: 1f79b163-7fe6-41db-957a-7472f6125616\n"
     ]
    }
   ],
   "source": [
    "def session_id():\n",
    "    unique_user_id = str(uuid.uuid4())\n",
    "    return unique_user_id\n",
    "\n",
    "# Example usage\n",
    "user_id = session_id()\n",
    "print(\"Unique User ID:\", user_id)\n"
   ]
  },
  {
   "cell_type": "code",
   "execution_count": null,
   "metadata": {},
   "outputs": [],
   "source": [
    "# learner details"
   ]
  },
  {
   "cell_type": "code",
   "execution_count": null,
   "metadata": {},
   "outputs": [],
   "source": [
    "# courses\n",
    "courses = random.choice(['web development', 'seo', 'programming', 'photography', 'ux/ui design', 'chemistry', 'physics','biotechnology', 'spoken-english', 'spanish',\\\n",
    "    'data science', 'ai/ml', 'mechanical', 'excel', 'informatics', 'statistics', 'mathematics','geography', 'geo-coding', 'cloud-computing', 'baking','guitar', 'piano', \\\n",
    "    'digital marketing', 'networking', 'financial analysis', 'data analysis', 'drug-design', 'economics','probability', 'video editing', 'hair-dressing', 'game development' \\\n",
    "    'painting', 'copyright writing', 'personality development'])"
   ]
  }
 ],
 "metadata": {
  "kernelspec": {
   "display_name": ".env",
   "language": "python",
   "name": "python3"
  },
  "language_info": {
   "codemirror_mode": {
    "name": "ipython",
    "version": 3
   },
   "file_extension": ".py",
   "mimetype": "text/x-python",
   "name": "python",
   "nbconvert_exporter": "python",
   "pygments_lexer": "ipython3",
   "version": "3.11.7"
  }
 },
 "nbformat": 4,
 "nbformat_minor": 2
}
